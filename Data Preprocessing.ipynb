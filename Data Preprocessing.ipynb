{
  "nbformat": 4,
  "nbformat_minor": 0,
  "metadata": {
    "colab": {
      "provenance": []
    },
    "kernelspec": {
      "name": "python3",
      "display_name": "Python 3"
    },
    "language_info": {
      "name": "python"
    }
  },
  "cells": [
    {
      "cell_type": "markdown",
      "source": [
        "Step 1: Load the Dataset"
      ],
      "metadata": {
        "id": "0933ehw5QGu4"
      }
    },
    {
      "cell_type": "code",
      "execution_count": 48,
      "metadata": {
        "colab": {
          "base_uri": "https://localhost:8080/"
        },
        "id": "bHCq_mNFP2Oc",
        "outputId": "89204834-d801-4e2d-84d5-5b1d7f244ac4"
      },
      "outputs": [
        {
          "output_type": "stream",
          "name": "stdout",
          "text": [
            "(3157, 14)\n",
            "  Survey_Date  Age  Gender         Region               Industry  \\\n",
            "0  2025-06-01   27  Female           Asia  Professional Services   \n",
            "1  2025-06-01   37  Female           Asia  Professional Services   \n",
            "2  2025-06-01   32  Female         Africa              Education   \n",
            "3  2025-06-01   40  Female         Europe              Education   \n",
            "4  2025-06-01   30    Male  South America          Manufacturing   \n",
            "\n",
            "           Job_Role Work_Arrangement  Hours_Per_Week Mental_Health_Status  \\\n",
            "0      Data Analyst           Onsite              64      Stress Disorder   \n",
            "1      Data Analyst           Onsite              37      Stress Disorder   \n",
            "2  Business Analyst           Onsite              36                 ADHD   \n",
            "3      Data Analyst           Onsite              63                 ADHD   \n",
            "4   DevOps Engineer           Hybrid              65                  NaN   \n",
            "\n",
            "  Burnout_Level  Work_Life_Balance_Score     Physical_Health_Issues  \\\n",
            "0          High                        3   Shoulder Pain; Neck Pain   \n",
            "1          High                        4                  Back Pain   \n",
            "2          High                        3  Shoulder Pain; Eye Strain   \n",
            "3        Medium                        1  Shoulder Pain; Eye Strain   \n",
            "4        Medium                        5                        NaN   \n",
            "\n",
            "   Social_Isolation_Score Salary_Range  \n",
            "0                       2     $40K-60K  \n",
            "1                       2    $80K-100K  \n",
            "2                       2    $80K-100K  \n",
            "3                       2     $60K-80K  \n",
            "4                       4     $60K-80K  \n"
          ]
        }
      ],
      "source": [
        "import pandas as pd\n",
        "\n",
        "# Load dataset\n",
        "df = pd.read_csv(\"/content/post_pandemic_remote_work_health_impact_2025.csv\")\n",
        "\n",
        "# Quick look\n",
        "print(df.shape)\n",
        "print(df.head())\n"
      ]
    },
    {
      "cell_type": "markdown",
      "source": [
        "Step 2: Check Missing Values"
      ],
      "metadata": {
        "id": "yKGnHI5kQUk_"
      }
    },
    {
      "cell_type": "code",
      "source": [
        "# Check missing values per column\n",
        "df.isnull().sum()\n"
      ],
      "metadata": {
        "colab": {
          "base_uri": "https://localhost:8080/",
          "height": 523
        },
        "id": "o4Vd8BmxQRpH",
        "outputId": "fb4d341c-a9ed-44e5-9ce1-dced77306a63"
      },
      "execution_count": 49,
      "outputs": [
        {
          "output_type": "execute_result",
          "data": {
            "text/plain": [
              "Survey_Date                  0\n",
              "Age                          0\n",
              "Gender                       0\n",
              "Region                       0\n",
              "Industry                     0\n",
              "Job_Role                     0\n",
              "Work_Arrangement             0\n",
              "Hours_Per_Week               0\n",
              "Mental_Health_Status       799\n",
              "Burnout_Level                0\n",
              "Work_Life_Balance_Score      0\n",
              "Physical_Health_Issues     280\n",
              "Social_Isolation_Score       0\n",
              "Salary_Range                 0\n",
              "dtype: int64"
            ],
            "text/html": [
              "<div>\n",
              "<style scoped>\n",
              "    .dataframe tbody tr th:only-of-type {\n",
              "        vertical-align: middle;\n",
              "    }\n",
              "\n",
              "    .dataframe tbody tr th {\n",
              "        vertical-align: top;\n",
              "    }\n",
              "\n",
              "    .dataframe thead th {\n",
              "        text-align: right;\n",
              "    }\n",
              "</style>\n",
              "<table border=\"1\" class=\"dataframe\">\n",
              "  <thead>\n",
              "    <tr style=\"text-align: right;\">\n",
              "      <th></th>\n",
              "      <th>0</th>\n",
              "    </tr>\n",
              "  </thead>\n",
              "  <tbody>\n",
              "    <tr>\n",
              "      <th>Survey_Date</th>\n",
              "      <td>0</td>\n",
              "    </tr>\n",
              "    <tr>\n",
              "      <th>Age</th>\n",
              "      <td>0</td>\n",
              "    </tr>\n",
              "    <tr>\n",
              "      <th>Gender</th>\n",
              "      <td>0</td>\n",
              "    </tr>\n",
              "    <tr>\n",
              "      <th>Region</th>\n",
              "      <td>0</td>\n",
              "    </tr>\n",
              "    <tr>\n",
              "      <th>Industry</th>\n",
              "      <td>0</td>\n",
              "    </tr>\n",
              "    <tr>\n",
              "      <th>Job_Role</th>\n",
              "      <td>0</td>\n",
              "    </tr>\n",
              "    <tr>\n",
              "      <th>Work_Arrangement</th>\n",
              "      <td>0</td>\n",
              "    </tr>\n",
              "    <tr>\n",
              "      <th>Hours_Per_Week</th>\n",
              "      <td>0</td>\n",
              "    </tr>\n",
              "    <tr>\n",
              "      <th>Mental_Health_Status</th>\n",
              "      <td>799</td>\n",
              "    </tr>\n",
              "    <tr>\n",
              "      <th>Burnout_Level</th>\n",
              "      <td>0</td>\n",
              "    </tr>\n",
              "    <tr>\n",
              "      <th>Work_Life_Balance_Score</th>\n",
              "      <td>0</td>\n",
              "    </tr>\n",
              "    <tr>\n",
              "      <th>Physical_Health_Issues</th>\n",
              "      <td>280</td>\n",
              "    </tr>\n",
              "    <tr>\n",
              "      <th>Social_Isolation_Score</th>\n",
              "      <td>0</td>\n",
              "    </tr>\n",
              "    <tr>\n",
              "      <th>Salary_Range</th>\n",
              "      <td>0</td>\n",
              "    </tr>\n",
              "  </tbody>\n",
              "</table>\n",
              "</div><br><label><b>dtype:</b> int64</label>"
            ]
          },
          "metadata": {},
          "execution_count": 49
        }
      ]
    },
    {
      "cell_type": "markdown",
      "source": [
        "Step 3: Handle Missing Values"
      ],
      "metadata": {
        "id": "d4J3TN_pQaQa"
      }
    },
    {
      "cell_type": "code",
      "source": [
        "# List of categorical features with missing values\n",
        "missing_cat_cols = ['Mental_Health_Status', 'Physical_Health_Issues']\n",
        "\n",
        "# Fill missing values with mode\n",
        "for col in missing_cat_cols:\n",
        "    df[col].fillna(df[col].mode()[0], inplace=True)\n",
        "\n",
        "# Verify missing values are handled\n",
        "df.isnull().sum()\n"
      ],
      "metadata": {
        "colab": {
          "base_uri": "https://localhost:8080/",
          "height": 670
        },
        "id": "aZLa2NjDQnZX",
        "outputId": "eb2496fd-0038-428d-ba86-7fb51036696d"
      },
      "execution_count": 50,
      "outputs": [
        {
          "output_type": "stream",
          "name": "stderr",
          "text": [
            "/tmp/ipython-input-2901728721.py:6: FutureWarning: A value is trying to be set on a copy of a DataFrame or Series through chained assignment using an inplace method.\n",
            "The behavior will change in pandas 3.0. This inplace method will never work because the intermediate object on which we are setting values always behaves as a copy.\n",
            "\n",
            "For example, when doing 'df[col].method(value, inplace=True)', try using 'df.method({col: value}, inplace=True)' or df[col] = df[col].method(value) instead, to perform the operation inplace on the original object.\n",
            "\n",
            "\n",
            "  df[col].fillna(df[col].mode()[0], inplace=True)\n"
          ]
        },
        {
          "output_type": "execute_result",
          "data": {
            "text/plain": [
              "Survey_Date                0\n",
              "Age                        0\n",
              "Gender                     0\n",
              "Region                     0\n",
              "Industry                   0\n",
              "Job_Role                   0\n",
              "Work_Arrangement           0\n",
              "Hours_Per_Week             0\n",
              "Mental_Health_Status       0\n",
              "Burnout_Level              0\n",
              "Work_Life_Balance_Score    0\n",
              "Physical_Health_Issues     0\n",
              "Social_Isolation_Score     0\n",
              "Salary_Range               0\n",
              "dtype: int64"
            ],
            "text/html": [
              "<div>\n",
              "<style scoped>\n",
              "    .dataframe tbody tr th:only-of-type {\n",
              "        vertical-align: middle;\n",
              "    }\n",
              "\n",
              "    .dataframe tbody tr th {\n",
              "        vertical-align: top;\n",
              "    }\n",
              "\n",
              "    .dataframe thead th {\n",
              "        text-align: right;\n",
              "    }\n",
              "</style>\n",
              "<table border=\"1\" class=\"dataframe\">\n",
              "  <thead>\n",
              "    <tr style=\"text-align: right;\">\n",
              "      <th></th>\n",
              "      <th>0</th>\n",
              "    </tr>\n",
              "  </thead>\n",
              "  <tbody>\n",
              "    <tr>\n",
              "      <th>Survey_Date</th>\n",
              "      <td>0</td>\n",
              "    </tr>\n",
              "    <tr>\n",
              "      <th>Age</th>\n",
              "      <td>0</td>\n",
              "    </tr>\n",
              "    <tr>\n",
              "      <th>Gender</th>\n",
              "      <td>0</td>\n",
              "    </tr>\n",
              "    <tr>\n",
              "      <th>Region</th>\n",
              "      <td>0</td>\n",
              "    </tr>\n",
              "    <tr>\n",
              "      <th>Industry</th>\n",
              "      <td>0</td>\n",
              "    </tr>\n",
              "    <tr>\n",
              "      <th>Job_Role</th>\n",
              "      <td>0</td>\n",
              "    </tr>\n",
              "    <tr>\n",
              "      <th>Work_Arrangement</th>\n",
              "      <td>0</td>\n",
              "    </tr>\n",
              "    <tr>\n",
              "      <th>Hours_Per_Week</th>\n",
              "      <td>0</td>\n",
              "    </tr>\n",
              "    <tr>\n",
              "      <th>Mental_Health_Status</th>\n",
              "      <td>0</td>\n",
              "    </tr>\n",
              "    <tr>\n",
              "      <th>Burnout_Level</th>\n",
              "      <td>0</td>\n",
              "    </tr>\n",
              "    <tr>\n",
              "      <th>Work_Life_Balance_Score</th>\n",
              "      <td>0</td>\n",
              "    </tr>\n",
              "    <tr>\n",
              "      <th>Physical_Health_Issues</th>\n",
              "      <td>0</td>\n",
              "    </tr>\n",
              "    <tr>\n",
              "      <th>Social_Isolation_Score</th>\n",
              "      <td>0</td>\n",
              "    </tr>\n",
              "    <tr>\n",
              "      <th>Salary_Range</th>\n",
              "      <td>0</td>\n",
              "    </tr>\n",
              "  </tbody>\n",
              "</table>\n",
              "</div><br><label><b>dtype:</b> int64</label>"
            ]
          },
          "metadata": {},
          "execution_count": 50
        }
      ]
    },
    {
      "cell_type": "markdown",
      "source": [
        "Step 04: Categorical encoding"
      ],
      "metadata": {
        "id": "CWtCA2pBgmgg"
      }
    },
    {
      "cell_type": "code",
      "source": [
        "#identified categorical features\n",
        "cat_cols = ['Gender', 'Region', 'Industry', 'Job_Role',\n",
        "            'Work_Arrangement', 'Mental_Health_Status',\n",
        "            'Physical_Health_Issues', 'Salary_Range']\n"
      ],
      "metadata": {
        "id": "jB0B_1AogmTA"
      },
      "execution_count": 51,
      "outputs": []
    },
    {
      "cell_type": "markdown",
      "source": [
        "Step : Encode based on type\n",
        "\n",
        "Nominal categorical variables → One-Hot Encoding\n",
        "\n",
        "Prevents introducing false order among categories.\n",
        "\n",
        "Ordinal variable (target: Burnout_Level) → Label Encoding"
      ],
      "metadata": {
        "id": "ekgm4-t5h_Oo"
      }
    },
    {
      "cell_type": "code",
      "source": [
        "from sklearn.preprocessing import LabelEncoder\n",
        "\n",
        "le = LabelEncoder()\n",
        "df['Burnout_Level'] = le.fit_transform(df['Burnout_Level'])\n"
      ],
      "metadata": {
        "id": "8AGjHFyqiNSI"
      },
      "execution_count": 52,
      "outputs": []
    },
    {
      "cell_type": "code",
      "source": [
        "df.columns.tolist()\n"
      ],
      "metadata": {
        "colab": {
          "base_uri": "https://localhost:8080/"
        },
        "id": "3LfMkJsXlx0H",
        "outputId": "f840eab0-dc64-4f7c-c4da-2e745ea6df64"
      },
      "execution_count": 53,
      "outputs": [
        {
          "output_type": "execute_result",
          "data": {
            "text/plain": [
              "['Survey_Date',\n",
              " 'Age',\n",
              " 'Gender',\n",
              " 'Region',\n",
              " 'Industry',\n",
              " 'Job_Role',\n",
              " 'Work_Arrangement',\n",
              " 'Hours_Per_Week',\n",
              " 'Mental_Health_Status',\n",
              " 'Burnout_Level',\n",
              " 'Work_Life_Balance_Score',\n",
              " 'Physical_Health_Issues',\n",
              " 'Social_Isolation_Score',\n",
              " 'Salary_Range']"
            ]
          },
          "metadata": {},
          "execution_count": 53
        }
      ]
    },
    {
      "cell_type": "code",
      "source": [
        "# 1. Ensure column names have no extra spaces\n",
        "df.columns = df.columns.str.strip()\n",
        "\n",
        "# 2. Label encode the target variable\n",
        "from sklearn.preprocessing import LabelEncoder\n",
        "\n",
        "le = LabelEncoder()\n",
        "df['Burnout_Level'] = le.fit_transform(df['Burnout_Level'])  # Low=0, Medium=1, High=2\n",
        "\n",
        "# 3. Define input categorical columns for one-hot encoding\n",
        "cat_cols = ['Gender', 'Region', 'Industry', 'Job_Role',\n",
        "            'Work_Arrangement', 'Mental_Health_Status',\n",
        "            'Physical_Health_Issues', 'Salary_Range']\n",
        "\n",
        "# 4. Apply one-hot encoding\n",
        "df = pd.get_dummies(df, columns=cat_cols)\n",
        "\n",
        "# 5. Verify encoding\n",
        "print(\"Dataset shape after encoding:\", df.shape)\n",
        "print(df.head())\n"
      ],
      "metadata": {
        "colab": {
          "base_uri": "https://localhost:8080/"
        },
        "id": "G6jPRcxioIcf",
        "outputId": "9a82c4c5-53fa-4b5e-a8d3-aac5370a5032"
      },
      "execution_count": 54,
      "outputs": [
        {
          "output_type": "stream",
          "name": "stdout",
          "text": [
            "Dataset shape after encoding: (3157, 94)\n",
            "  Survey_Date  Age  Hours_Per_Week  Burnout_Level  Work_Life_Balance_Score  \\\n",
            "0  2025-06-01   27              64              0                        3   \n",
            "1  2025-06-01   37              37              0                        4   \n",
            "2  2025-06-01   32              36              0                        3   \n",
            "3  2025-06-01   40              63              2                        1   \n",
            "4  2025-06-01   30              65              2                        5   \n",
            "\n",
            "   Social_Isolation_Score  Gender_Female  Gender_Male  Gender_Non-binary  \\\n",
            "0                       2           True        False              False   \n",
            "1                       2           True        False              False   \n",
            "2                       2           True        False              False   \n",
            "3                       2           True        False              False   \n",
            "4                       4          False         True              False   \n",
            "\n",
            "   Gender_Prefer not to say  ...  \\\n",
            "0                     False  ...   \n",
            "1                     False  ...   \n",
            "2                     False  ...   \n",
            "3                     False  ...   \n",
            "4                     False  ...   \n",
            "\n",
            "   Physical_Health_Issues_Shoulder Pain; Eye Strain; Wrist Pain  \\\n",
            "0                                              False              \n",
            "1                                              False              \n",
            "2                                              False              \n",
            "3                                              False              \n",
            "4                                              False              \n",
            "\n",
            "   Physical_Health_Issues_Shoulder Pain; Neck Pain  \\\n",
            "0                                             True   \n",
            "1                                            False   \n",
            "2                                            False   \n",
            "3                                            False   \n",
            "4                                            False   \n",
            "\n",
            "   Physical_Health_Issues_Shoulder Pain; Neck Pain; Wrist Pain  \\\n",
            "0                                              False             \n",
            "1                                              False             \n",
            "2                                              False             \n",
            "3                                              False             \n",
            "4                                              False             \n",
            "\n",
            "   Physical_Health_Issues_Shoulder Pain; Wrist Pain  \\\n",
            "0                                             False   \n",
            "1                                             False   \n",
            "2                                             False   \n",
            "3                                             False   \n",
            "4                                             False   \n",
            "\n",
            "   Physical_Health_Issues_Wrist Pain  Salary_Range_$100K-120K  \\\n",
            "0                              False                    False   \n",
            "1                              False                    False   \n",
            "2                              False                    False   \n",
            "3                              False                    False   \n",
            "4                              False                    False   \n",
            "\n",
            "   Salary_Range_$120K+  Salary_Range_$40K-60K  Salary_Range_$60K-80K  \\\n",
            "0                False                   True                  False   \n",
            "1                False                  False                  False   \n",
            "2                False                  False                  False   \n",
            "3                False                  False                   True   \n",
            "4                False                  False                   True   \n",
            "\n",
            "   Salary_Range_$80K-100K  \n",
            "0                   False  \n",
            "1                    True  \n",
            "2                    True  \n",
            "3                   False  \n",
            "4                   False  \n",
            "\n",
            "[5 rows x 94 columns]\n"
          ]
        }
      ]
    },
    {
      "cell_type": "markdown",
      "source": [
        "Step 05: Identify numerical features"
      ],
      "metadata": {
        "id": "mQp_87uRraru"
      }
    },
    {
      "cell_type": "code",
      "source": [
        "num_cols = ['Age', 'Hours_Per_Week', 'Work_Life_Balance_Score', 'Social_Isolation_Score']\n"
      ],
      "metadata": {
        "id": "QWxtRx6XrbtG"
      },
      "execution_count": 55,
      "outputs": []
    },
    {
      "cell_type": "markdown",
      "source": [
        "Step 06: Apply Min-Max Scaling"
      ],
      "metadata": {
        "id": "L2_BNj9Nrj2e"
      }
    },
    {
      "cell_type": "code",
      "source": [
        "from sklearn.preprocessing import MinMaxScaler\n",
        "\n",
        "scaler = MinMaxScaler()\n",
        "df[num_cols] = scaler.fit_transform(df[num_cols])\n",
        "\n",
        "# Verify scaling\n",
        "print(df[num_cols].head())\n"
      ],
      "metadata": {
        "colab": {
          "base_uri": "https://localhost:8080/"
        },
        "id": "YAy8bDMjrkre",
        "outputId": "8709f698-ecb2-4e7a-88e0-1d32f9317192"
      },
      "execution_count": 56,
      "outputs": [
        {
          "output_type": "stream",
          "name": "stdout",
          "text": [
            "        Age  Hours_Per_Week  Work_Life_Balance_Score  Social_Isolation_Score\n",
            "0  0.116279        0.966667                     0.50                    0.25\n",
            "1  0.348837        0.066667                     0.75                    0.25\n",
            "2  0.232558        0.033333                     0.50                    0.25\n",
            "3  0.418605        0.933333                     0.00                    0.25\n",
            "4  0.186047        1.000000                     1.00                    0.75\n"
          ]
        }
      ]
    }
  ]
}